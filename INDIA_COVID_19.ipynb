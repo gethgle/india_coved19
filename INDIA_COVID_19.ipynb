{
  "nbformat": 4,
  "nbformat_minor": 0,
  "metadata": {
    "colab": {
      "name": "INDIA_COVID_19.ipynb",
      "provenance": [],
      "collapsed_sections": [],
      "include_colab_link": true
    },
    "kernelspec": {
      "name": "python3",
      "display_name": "Python 3"
    }
  },
  "cells": [
    {
      "cell_type": "markdown",
      "metadata": {
        "id": "view-in-github",
        "colab_type": "text"
      },
      "source": [
        "<a href=\"https://colab.research.google.com/github/gethgle/india_coved19/blob/main/INDIA_COVID_19.ipynb\" target=\"_parent\"><img src=\"https://colab.research.google.com/assets/colab-badge.svg\" alt=\"Open In Colab\"/></a>"
      ]
    },
    {
      "cell_type": "code",
      "metadata": {
        "id": "TCxyaWe1hDaH"
      },
      "source": [
        "import pandas as pd\n",
        "import json\n",
        "import requests\n",
        "import numpy as np\n",
        "from geopy.geocoders import Nominatim\n",
        "from geopy.extra.rate_limiter import RateLimiter\n",
        "import matplotlib.pyplot as plt\n",
        "import folium\n",
        "from folium.plugins import FastMarkerCluster \n",
        "import pickle \n",
        "import csv"
      ],
      "execution_count": null,
      "outputs": []
    },
    {
      "cell_type": "code",
      "metadata": {
        "colab": {
          "base_uri": "https://localhost:8080/"
        },
        "id": "QPluKJZ-I5_n",
        "outputId": "4b5ad355-7b4c-4c1d-d7be-e77c6fa71daf"
      },
      "source": [
        "from google.colab import drive\n",
        "drive.mount('/content/drive')"
      ],
      "execution_count": null,
      "outputs": [
        {
          "output_type": "stream",
          "text": [
            "Drive already mounted at /content/drive; to attempt to forcibly remount, call drive.mount(\"/content/drive\", force_remount=True).\n"
          ],
          "name": "stdout"
        }
      ]
    },
    {
      "cell_type": "code",
      "metadata": {
        "colab": {
          "base_uri": "https://localhost:8080/"
        },
        "id": "ceipUckCJVoC",
        "outputId": "d47982ba-565d-48d8-e189-5ccb1c3c0839"
      },
      "source": [
        "%cd /content/drive/MyDrive/Classroom/www.india_coved19.com"
      ],
      "execution_count": null,
      "outputs": [
        {
          "output_type": "stream",
          "text": [
            "/content/drive/MyDrive/Classroom/www.india_coved19.com\n"
          ],
          "name": "stdout"
        }
      ]
    },
    {
      "cell_type": "code",
      "metadata": {
        "id": "nzMzDLOQMUFN",
        "colab": {
          "base_uri": "https://localhost:8080/"
        },
        "outputId": "6c02cd7a-becf-4769-8aea-c0018a23298f"
      },
      "source": [
        "! git clone https://github.com/gethgle/india_coved19.git"
      ],
      "execution_count": null,
      "outputs": [
        {
          "output_type": "stream",
          "text": [
            "fatal: destination path 'india_coved19' already exists and is not an empty directory.\n"
          ],
          "name": "stdout"
        }
      ]
    },
    {
      "cell_type": "code",
      "metadata": {
        "id": "hhswPfsepnKj"
      },
      "source": [
        "raw= requests.get(\"https://api.covid19india.org/raw_data.json\").json()"
      ],
      "execution_count": null,
      "outputs": []
    },
    {
      "cell_type": "code",
      "metadata": {
        "id": "nLovM_X2h6ad"
      },
      "source": [
        "raw_data =pd.DataFrame(raw['raw_data'])\n",
        "raw_data = raw_data.replace(r'^\\s*$', np.nan, regex=True) "
      ],
      "execution_count": null,
      "outputs": []
    },
    {
      "cell_type": "code",
      "metadata": {
        "id": "OzQv6upV7EyA"
      },
      "source": [
        "raw_data =raw_data.drop(['source1', 'source2', 'source3','backupnotes'], axis = 1) "
      ],
      "execution_count": null,
      "outputs": []
    },
    {
      "cell_type": "code",
      "metadata": {
        "id": "Wx9DZiLzzuVi"
      },
      "source": [
        "raw_data= raw_data.dropna(how='all', subset=['agebracket','contractedfromwhichpatientsuspected',\n",
        "       'currentstatus', 'dateannounced', 'detectedcity', 'detecteddistrict',\n",
        "       'detectedstate', 'estimatedonsetdate', 'gender', 'nationality', 'notes','statepatientnumber',\n",
        "       'statuschangedate', 'typeoftransmission'])"
      ],
      "execution_count": null,
      "outputs": []
    },
    {
      "cell_type": "code",
      "metadata": {
        "id": "CW3L_YRhU6Fj"
      },
      "source": [
        "raw_data= raw_data.dropna(how='all', subset=['detectedcity', 'detecteddistrict','detectedstate'])"
      ],
      "execution_count": null,
      "outputs": []
    },
    {
      "cell_type": "code",
      "metadata": {
        "id": "FG8ZO0XV1SeZ"
      },
      "source": [
        "raw_data = raw_data[['patientnumber','contractedfromwhichpatientsuspected','statepatientnumber','dateannounced','agebracket','gender','detectedcity', 'detecteddistrict','detectedstate','currentstatus','notes','nationality','typeoftransmission','statuschangedate']]"
      ],
      "execution_count": null,
      "outputs": []
    },
    {
      "cell_type": "code",
      "metadata": {
        "id": "9poJexkAUnlm"
      },
      "source": [
        "raw_data['detecteddistrict'] = raw_data.apply(lambda row: row['detectedstate'] if pd.isnull(row['detecteddistrict']) else row['detecteddistrict'],axis=1)\n",
        "raw_data['detectedcity'] = raw_data.apply(lambda row: row['detecteddistrict'] if pd.isnull(row['detectedcity']) else row['detectedcity'],axis=1)  "
      ],
      "execution_count": null,
      "outputs": []
    },
    {
      "cell_type": "code",
      "metadata": {
        "id": "Wj-9nrk6dVzz"
      },
      "source": [
        "raw_data['Address'] = raw_data.detecteddistrict.str.cat(raw_data['detectedstate'],sep= (',')) \n",
        "raw_data['Address'] = raw_data.detectedcity.str.cat(raw_data['Address'],sep= (',')) "
      ],
      "execution_count": null,
      "outputs": []
    },
    {
      "cell_type": "code",
      "metadata": {
        "id": "1ye7pW2l12Tj"
      },
      "source": [
        "raw_data['Address'] = raw_data['Address'].str.lower() "
      ],
      "execution_count": null,
      "outputs": []
    },
    {
      "cell_type": "code",
      "metadata": {
        "id": "nUGIeesCisTX"
      },
      "source": [
        "from collections import OrderedDict\n",
        "raw_data['Address'] = (raw_data['Address'].str.split(',').apply(lambda x: OrderedDict.fromkeys(x).keys()).str.join(',')) "
      ],
      "execution_count": null,
      "outputs": []
    },
    {
      "cell_type": "code",
      "metadata": {
        "id": "dsmHSL2Wovwo"
      },
      "source": [
        "raw_data =raw_data.drop(['detectedcity', 'detecteddistrict','detectedstate'], axis = 1) "
      ],
      "execution_count": null,
      "outputs": []
    },
    {
      "cell_type": "code",
      "metadata": {
        "id": "sK2Mqct6uI5p"
      },
      "source": [
        "cities =list(raw_data.Address.unique())\n",
        "cities.sort()\n",
        "cities = [x.lower() for x in cities] \n",
        "cities = list(dict.fromkeys(cities)) \n",
        "pd.Series(cities,name = 'Address').to_csv(r'address.csv', index = True) "
      ],
      "execution_count": null,
      "outputs": []
    },
    {
      "cell_type": "code",
      "metadata": {
        "id": "vDeyfhXVW5cn"
      },
      "source": [
        "lon_lat = pd.read_csv('/content/drive/MyDrive/Classroom/www.india_coved19.com/address_latlog - address.csv',index_col=0) "
      ],
      "execution_count": null,
      "outputs": []
    },
    {
      "cell_type": "code",
      "metadata": {
        "id": "xfYLiSzTLmwt"
      },
      "source": [
        "lon_lat= lon_lat.set_index('Address').T.to_dict('list') "
      ],
      "execution_count": null,
      "outputs": []
    },
    {
      "cell_type": "code",
      "metadata": {
        "id": "OSR8Zv74pQz9"
      },
      "source": [
        "#worng = list(raw_data[raw_data.city_coord.isnull()].detectedcity.unique())\n",
        "#worng = ['Kalanadu','Gautam Buddh Nagar','Shrungartali','Khanyar','Eriyal','Gautam Puri','Chusot','Lakhapt','Hosayellapur','Shahid Bhagat Singh Nagar','Purasaivakkam','Bandipore','Natipora','Qutbullapur','Prakulam','Nizamuddin area','Tollygugne','Karampudi','Kunkala Marru','Hindpidi','S.P.S. Nellore','Annaimalai','Karunkalpalayam','Shahgunj','Golekbana','Kiramani Colony','South Salmara Mancachar','Y.S.R.','bomikhal','Bhiwara','Bomikhal','Hatras','Chota Udaipur','Bhimatangi, Bhubaneswar','Dera Bassi, Mohali','Bomikhal, Bhubaneswar']\n",
        "#right=  ['Kalanad','Greater Noida','Shringartali','Khaniyar','Kasaragod','south delhi','leh','Lakhpat','Dharwad','Shaheed Bhagat Singh Nagar','Purasawalkam','Bandipora','Srinagar','Quthbullapur','Prakkulam','Nizamuddin','Tollygunge','Karempudi','Kunkalamarru','Hindpiri','Nellore','Annamalai','Erode','Shahganj','Bidar','Bidar','South Salmara Mankachar','KADAPA','Bhubaneswar','Bhilwara','Bhubaneswar','Hathras','Chhota Udaipur','Bhubaneswar','Dera Bassi','Bhubaneswar'] \n",
        "#raw_data['detectedcity']=raw_data.detectedcity.replace(to_replace = worng, value =right) "
      ],
      "execution_count": null,
      "outputs": []
    },
    {
      "cell_type": "code",
      "metadata": {
        "id": "NlkM8JAyNGS2"
      },
      "source": [
        "missing_city = []\n",
        "for city in cities:\n",
        "  if city in lon_lat:\n",
        "    pass\n",
        "  else:\n",
        "    missing_city.append(city) "
      ],
      "execution_count": null,
      "outputs": []
    },
    {
      "cell_type": "code",
      "metadata": {
        "id": "HQAID3_bvOdo",
        "colab": {
          "base_uri": "https://localhost:8080/"
        },
        "outputId": "5e615fea-9339-430c-a83b-7ad9ecb7acbc"
      },
      "source": [
        "locator = Nominatim(user_agent=\"myGeocoder\", timeout=5)\n",
        "geocode = RateLimiter(locator.geocode, min_delay_seconds=1)\n",
        "city_dict = dict(zip(missing_city, pd.Series(missing_city).apply(locator.geocode).apply(lambda x: [x.latitude, x.longitude] if x else None )))\n",
        "citys_location_dict = {**city_dict,**lon_lat} "
      ],
      "execution_count": null,
      "outputs": [
        {
          "output_type": "stream",
          "text": [
            "/usr/local/lib/python3.6/dist-packages/ipykernel_launcher.py:3: DeprecationWarning: The default dtype for empty Series will be 'object' instead of 'float64' in a future version. Specify a dtype explicitly to silence this warning.\n",
            "  This is separate from the ipykernel package so we can avoid doing imports until\n"
          ],
          "name": "stderr"
        }
      ]
    },
    {
      "cell_type": "code",
      "metadata": {
        "id": "tt7u534xo9kI",
        "colab": {
          "base_uri": "https://localhost:8080/",
          "height": 120
        },
        "outputId": "5143a5c6-1c92-4f49-e235-aa9a9934cdfb"
      },
      "source": [
        "'''#locations = pickle.load(open( \"/content/drive/My Drive/Classroom/location.p\", \"rb\" )) \n",
        "cities =list(raw_data.detectedcity.unique())\n",
        "cities.sort()\n",
        "cities = [x.lower() for x in cities] \n",
        "cities = list(dict.fromkeys(cities)) \n",
        "import os\n",
        "from geopy.extra.rate_limiter import RateLimiter\n",
        "if not os.path.isfile('locations_dict.pickle'):\n",
        "  locator = Nominatim(user_agent=\"myGeocoder\", timeout=5)\n",
        "  geocode = RateLimiter(locator.geocode, min_delay_seconds=1)\n",
        "  city_dicts = dict(zip(cities, pd.Series(cities).apply(locator.geocode).apply(lambda x: [x.latitude, x.longitude] if x else None )))\n",
        "  pickle_out = open(\"locations_dict.pickle\",\"wb\") \n",
        "  pickle.dump(city_dicts,pickle_out)\n",
        "  pickle_out.close() \n",
        "else:\n",
        "  pickle_in = open(\"locations_dict.pickle\",\"rb\")\n",
        "  citys_dict= pickle.load(pickle_in) \n",
        "  pickle_in.close() \n",
        "  missing_city = []\n",
        "  for city in cities:\n",
        "    if city in citys_dict:\n",
        "      pass\n",
        "    else:\n",
        "      missing_city.append(city)    \n",
        "  locator = Nominatim(user_agent=\"myGeocoder\", timeout=5)\n",
        "  geocode = RateLimiter(locator.geocode, min_delay_seconds=1)\n",
        "  city_dict = dict(zip(missing_city, pd.Series(missing_city).apply(locator.geocode).apply(lambda x: [x.latitude, x.longitude] if x else None )))\n",
        "  citys_location_dict = {**city_dict,**citys_dict}\n",
        "  pickle_out = open(\"locations_dict.pickle\",\"wb\")\n",
        "  pickle.dump(citys_location_dict,pickle_out) \n",
        "  pickle_out.close() '''"
      ],
      "execution_count": null,
      "outputs": [
        {
          "output_type": "execute_result",
          "data": {
            "application/vnd.google.colaboratory.intrinsic+json": {
              "type": "string"
            },
            "text/plain": [
              "'#locations = pickle.load(open( \"/content/drive/My Drive/Classroom/location.p\", \"rb\" )) \\ncities =list(raw_data.detectedcity.unique())\\ncities.sort()\\ncities = [x.lower() for x in cities] \\ncities = list(dict.fromkeys(cities)) \\nimport os\\nfrom geopy.extra.rate_limiter import RateLimiter\\nif not os.path.isfile(\\'locations_dict.pickle\\'):\\n  locator = Nominatim(user_agent=\"myGeocoder\", timeout=5)\\n  geocode = RateLimiter(locator.geocode, min_delay_seconds=1)\\n  city_dicts = dict(zip(cities, pd.Series(cities).apply(locator.geocode).apply(lambda x: [x.latitude, x.longitude] if x else None )))\\n  pickle_out = open(\"locations_dict.pickle\",\"wb\") \\n  pickle.dump(city_dicts,pickle_out)\\n  pickle_out.close() \\nelse:\\n  pickle_in = open(\"locations_dict.pickle\",\"rb\")\\n  citys_dict= pickle.load(pickle_in) \\n  pickle_in.close() \\n  missing_city = []\\n  for city in cities:\\n    if city in citys_dict:\\n      pass\\n    else:\\n      missing_city.append(city)    \\n  locator = Nominatim(user_agent=\"myGeocoder\", timeout=5)\\n  geocode = RateLimiter(locator.geocode, min_delay_seconds=1)\\n  city_dict = dict(zip(missing_city, pd.Series(missing_city).apply(locator.geocode).apply(lambda x: [x.latitude, x.longitude] if x else None )))\\n  citys_location_dict = {**city_dict,**citys_dict}\\n  pickle_out = open(\"locations_dict.pickle\",\"wb\")\\n  pickle.dump(citys_location_dict,pickle_out) \\n  pickle_out.close() '"
            ]
          },
          "metadata": {
            "tags": []
          },
          "execution_count": 162
        }
      ]
    },
    {
      "cell_type": "code",
      "metadata": {
        "id": "Io96Xj_6GaUC"
      },
      "source": [
        "#pickle_in = open(\"locations_dict.pickle\",\"rb\")\n",
        "#citys_dict= pickle.load(pickle_in) \n",
        "#pickle_in.close()"
      ],
      "execution_count": null,
      "outputs": []
    },
    {
      "cell_type": "code",
      "metadata": {
        "id": "U13WiOFoBYIH"
      },
      "source": [
        "raw_data['city_coord'] = raw_data['Address'].str.lower().map(citys_location_dict) \n",
        "raw_data[['latitude','longitude']] = raw_data.city_coord.apply(pd.Series) "
      ],
      "execution_count": null,
      "outputs": []
    },
    {
      "cell_type": "code",
      "metadata": {
        "id": "1qszQbwECHC2",
        "colab": {
          "base_uri": "https://localhost:8080/",
          "height": 67
        },
        "outputId": "e50c8c79-aad5-42bb-cf63-943ac7d6d409"
      },
      "source": [
        "raw_data[raw_data.city_coord.isnull()]"
      ],
      "execution_count": null,
      "outputs": [
        {
          "output_type": "execute_result",
          "data": {
            "text/html": [
              "<div>\n",
              "<style scoped>\n",
              "    .dataframe tbody tr th:only-of-type {\n",
              "        vertical-align: middle;\n",
              "    }\n",
              "\n",
              "    .dataframe tbody tr th {\n",
              "        vertical-align: top;\n",
              "    }\n",
              "\n",
              "    .dataframe thead th {\n",
              "        text-align: right;\n",
              "    }\n",
              "</style>\n",
              "<table border=\"1\" class=\"dataframe\">\n",
              "  <thead>\n",
              "    <tr style=\"text-align: right;\">\n",
              "      <th></th>\n",
              "      <th>patientnumber</th>\n",
              "      <th>contractedfromwhichpatientsuspected</th>\n",
              "      <th>statepatientnumber</th>\n",
              "      <th>dateannounced</th>\n",
              "      <th>agebracket</th>\n",
              "      <th>gender</th>\n",
              "      <th>currentstatus</th>\n",
              "      <th>notes</th>\n",
              "      <th>nationality</th>\n",
              "      <th>typeoftransmission</th>\n",
              "      <th>statuschangedate</th>\n",
              "      <th>Address</th>\n",
              "      <th>city_coord</th>\n",
              "      <th>latitude</th>\n",
              "      <th>longitude</th>\n",
              "    </tr>\n",
              "  </thead>\n",
              "  <tbody>\n",
              "  </tbody>\n",
              "</table>\n",
              "</div>"
            ],
            "text/plain": [
              "Empty DataFrame\n",
              "Columns: [patientnumber, contractedfromwhichpatientsuspected, statepatientnumber, dateannounced, agebracket, gender, currentstatus, notes, nationality, typeoftransmission, statuschangedate, Address, city_coord, latitude, longitude]\n",
              "Index: []"
            ]
          },
          "metadata": {
            "tags": []
          },
          "execution_count": 165
        }
      ]
    },
    {
      "cell_type": "code",
      "metadata": {
        "id": "jMjtPshtv-Yi"
      },
      "source": [
        "import folium\n",
        "from folium import Map, Marker, GeoJson, LayerControl\n",
        "from folium.plugins import FastMarkerCluster, MarkerCluster\n",
        "map_osm = folium.Map(location=[21.7679,78.8718],zoom_start=6)\n",
        "mc = MarkerCluster(name=\"Marker Cluster\")\n",
        "for index, row in raw_data.iterrows():\n",
        "  if (row[\"currentstatus\"] == \"Hospitalized\"):\n",
        "    popup_text = \"<b>Pid:</b> {}<br><b>Test Result Date:</b>{}<br><b>Age:</b> {}<br><b>Gender:</b>{}<br><b>Location:</b> {}<br><b>Notes:</b> {}<br><b>Status:</b> {}<br>\".format(index+1, row[\"dateannounced\"], row[\"agebracket\"],row['gender'],row['Address'],row['notes'],row['currentstatus'])\n",
        "    popup = folium.Popup(popup_text,max_width= 3000) \n",
        "    marker_not_active = folium.CircleMarker(location=(row[\"latitude\"],row[\"longitude\"]),radius= 10,color='blue',fill=True,popup=popup).add_to(mc)\n",
        "  elif (row[\"currentstatus\"]==\"Recovered\"):\n",
        "\n",
        "    popup_text =\"<b>Pid:</b> {}<br><b>Test Result Date:</b>{}<br><b>Age:</b> {}<br><b>Gender:</b>{}<br><b>Location:</b> {}<br><b>Notes:</b> {}<br><b>Status:</b> {}<br>\".format(index+1, row[\"dateannounced\"], row[\"agebracket\"],row['gender'],row['Address'],row['notes'],row['currentstatus'])\n",
        "    popup = folium.Popup(popup_text, max_width=3000)\n",
        "    marker_active = folium.CircleMarker(location=(row[\"latitude\"],row[\"longitude\"]), radius=10,color='green',fill=True,popup=popup_text).add_to(mc)\n",
        "  else:\n",
        "    popup_text = \"<b>Pid:</b> {}<br><b>Test Result Date:</b>{}<br><b>Age:</b> {}<br><b>Gender:</b>{}<br><b>Location:</b> {}<br><b>Notes:</b> {}<br><b>Status:</b> {}<br>\".format(index+1, row[\"dateannounced\"], row[\"agebracket\"],row['gender'],row['Address'],row['notes'],row['currentstatus'])\n",
        "    popup = folium.Popup(popup_text,max_width=3000)\n",
        "    marker_active = folium.CircleMarker(location=(row[\"latitude\"],row[\"longitude\"]), radius=10,color='red',fill=True,popup=popup_text).add_to(mc)\n",
        "mc.add_to(map_osm)\n",
        "folium.LayerControl().add_to(map_osm)\n",
        "\n",
        "map_osm.save('index.html')\n",
        "map_osm"
      ],
      "execution_count": null,
      "outputs": []
    }
  ]
}